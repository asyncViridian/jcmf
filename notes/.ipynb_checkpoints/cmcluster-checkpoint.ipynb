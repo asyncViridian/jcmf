{
 "cells": [
  {
   "cell_type": "code",
   "execution_count": 5,
   "metadata": {},
   "outputs": [],
   "source": [
    "def peel_first_col(fname, fcol, delimiter=None):\n",
    "    with open(fname, 'r') as fin:\n",
    "        for line in fin:\n",
    "            try:\n",
    "                fcol.append(line.split(delimiter, 1)[0])\n",
    "                yield line.split(delimiter, 1)[1]\n",
    "            except IndexError:\n",
    "                continue"
   ]
  },
  {
   "cell_type": "code",
   "execution_count": 10,
   "metadata": {
    "scrolled": false
   },
   "outputs": [
    {
     "name": "stdout",
     "output_type": "stream",
     "text": [
      "['m_288.fasta.motif.h2_1.h2_5.h2_4.cm' 'm_290.fasta.motif.h2_3.h2_4.cm'\n",
      " 'm_278.fasta.motif.h2_1.h2_3.cm' 'm_516.fasta.motif.h1_4.cm'\n",
      " 'm_544.fasta.motif.h2_1.h2_2.h2_5.cm' 'm_511.fasta.motif.h1_2.h1_5.cm']\n"
     ]
    }
   ],
   "source": [
    "import numpy as np\n",
    "import matplotlib.pyplot as plt\n",
    "from mpl_toolkits import mplot3d\n",
    "import networkx as nx\n",
    "import string\n",
    "\n",
    "symMats = []\n",
    "graphs = []\n",
    "algos = []\n",
    "col = []\n",
    "algoOrder = [\"PoAV\", \"PQAV\", \"Po2P\", \"PQ2P\", \"PoPN\", \"PQPN\"]\n",
    "ext =       [\"_0\",   \"_1\",   \"_2\",   \"_3\",   \"_4\",   \"_5\"]\n",
    "for e in range(len(ext)):\n",
    "    col = []\n",
    "    klDiv = np.loadtxt(peel_first_col(\"../output/smallcm/ARR\"+ext[e]+\".mx\", col), skiprows=1)\n",
    "    col.pop(0)\n",
    "    #klDiv = np.absolute(klDiv)\n",
    "    symKlDiv = np.triu(klDiv)+np.tril(klDiv).T\n",
    "    symMats = symMats + [symKlDiv]\n",
    "\n",
    "    G = nx.from_numpy_matrix(symKlDiv)\n",
    "    for i in range(len(col)):\n",
    "        G.node[i]['id'] = col[i]\n",
    "    graphs = graphs + [G]\n",
    "    algos = algos + [algoOrder[e]]\n",
    "print(np.array(col).T)"
   ]
  },
  {
   "cell_type": "code",
   "execution_count": 24,
   "metadata": {},
   "outputs": [
    {
     "name": "stdout",
     "output_type": "stream",
     "text": [
      "PoAV \t [0 0 1 1 2 1]\n",
      "PQAV \t [0 1 0 2 2 1]\n",
      "Po2P \t [0 0 1 1 2 1]\n",
      "PQ2P \t [0 0 1 1 2 1]\n",
      "PoPN \t [0 0 2 1 1 1]\n",
      "PQPN \t [2 2 1 0 0 1]\n"
     ]
    }
   ],
   "source": [
    "import numpy as np\n",
    "from sklearn.cluster import SpectralClustering\n",
    "from sklearn import metrics\n",
    "\n",
    "affMats = []\n",
    "for i in range(len(symMats)):\n",
    "    adj_mat = symMats[i] + symMats[i].T\n",
    "    aff_mat = np.exp(-1 * adj_mat / adj_mat.std())\n",
    "    affMats = affMats + [aff_mat]\n",
    "\n",
    "    sc = SpectralClustering(3, affinity='precomputed', n_init=100)\n",
    "    sc.fit(aff_mat)\n",
    "    for n in range(len(sc.labels_)):\n",
    "        graphs[i].node[n]['group'] = str(sc.labels_[n])\n",
    "    \n",
    "    print(str(algos[i]), \"\\t\", sc.labels_)\n",
    "    #print(str(algos[i]), \"\\n\", symMats[i])"
   ]
  },
  {
   "cell_type": "code",
   "execution_count": 34,
   "metadata": {},
   "outputs": [],
   "source": [
    "import numpy as np\n",
    "from scipy.spatial.distance import pdist, squareform\n",
    "from sklearn import datasets\n",
    "from fastcluster import linkage\n",
    "\n",
    "def seriation(Z,N,cur_index):\n",
    "    '''\n",
    "        input:\n",
    "            - Z is a hierarchical tree (dendrogram)\n",
    "            - N is the number of points given to the clustering process\n",
    "            - cur_index is the position in the tree for the recursive traversal\n",
    "        output:\n",
    "            - order implied by the hierarchical tree Z\n",
    "            \n",
    "        seriation computes the order implied by a hierarchical tree (dendrogram)\n",
    "    '''\n",
    "    if cur_index < N:\n",
    "        return [cur_index]\n",
    "    else:\n",
    "        left = int(Z[cur_index-N,0])\n",
    "        right = int(Z[cur_index-N,1])\n",
    "        return (seriation(Z,N,left) + seriation(Z,N,right))\n",
    "    \n",
    "def compute_serial_matrix(dist_mat,method=\"ward\"):\n",
    "    '''\n",
    "        input:\n",
    "            - dist_mat is a distance matrix\n",
    "            - method = [\"ward\",\"single\",\"average\",\"complete\"]\n",
    "        output:\n",
    "            - seriated_dist is the input dist_mat,\n",
    "              but with re-ordered rows and columns\n",
    "              according to the seriation, i.e. the\n",
    "              order implied by the hierarchical tree\n",
    "            - res_order is the order implied by\n",
    "              the hierarhical tree\n",
    "            - res_linkage is the hierarhical tree (dendrogram)\n",
    "        \n",
    "        compute_serial_matrix transforms a distance matrix into \n",
    "        a sorted distance matrix according to the order implied \n",
    "        by the hierarchical tree (dendrogram)\n",
    "    '''\n",
    "    N = len(dist_mat)\n",
    "    flat_dist_mat = squareform(dist_mat)\n",
    "    res_linkage = linkage(flat_dist_mat, method=method,preserve_input=True)\n",
    "    res_order = seriation(res_linkage, N, N + N-2)\n",
    "    seriated_dist = np.zeros((N,N))\n",
    "    a,b = np.triu_indices(N,k=1)\n",
    "    seriated_dist[a,b] = dist_mat[ [res_order[i] for i in a], [res_order[j] for j in b]]\n",
    "    seriated_dist[b,a] = seriated_dist[a,b]\n",
    "    \n",
    "    return seriated_dist, res_order, res_linkage"
   ]
  },
  {
   "cell_type": "code",
   "execution_count": 49,
   "metadata": {},
   "outputs": [
    {
     "name": "stdout",
     "output_type": "stream",
     "text": [
      "Method:\t ward\n",
      "m_544.fasta.motif.h2_1.h2_2.h2_5.cm\n",
      "m_278.fasta.motif.h2_1.h2_3.cm\n",
      "m_288.fasta.motif.h2_1.h2_5.h2_4.cm\n",
      "m_290.fasta.motif.h2_3.h2_4.cm\n",
      "m_516.fasta.motif.h1_4.cm\n",
      "m_511.fasta.motif.h1_2.h1_5.cm\n"
     ]
    },
    {
     "data": {
      "image/png": "[encoded data removed]",
      "text/plain": [
       "<Figure size 432x288 with 2 Axes>"
      ]
     },
     "metadata": {},
     "output_type": "display_data"
    },
    {
     "name": "stdout",
     "output_type": "stream",
     "text": [
      "Method:\t single\n",
      "m_544.fasta.motif.h2_1.h2_2.h2_5.cm\n",
      "m_278.fasta.motif.h2_1.h2_3.cm\n",
      "m_288.fasta.motif.h2_1.h2_5.h2_4.cm\n",
      "m_290.fasta.motif.h2_3.h2_4.cm\n",
      "m_516.fasta.motif.h1_4.cm\n",
      "m_511.fasta.motif.h1_2.h1_5.cm\n"
     ]
    },
    {
     "data": {
      "image/png": "[encoded data removed]",
      "text/plain": [
       "<Figure size 432x288 with 2 Axes>"
      ]
     },
     "metadata": {},
     "output_type": "display_data"
    },
    {
     "name": "stdout",
     "output_type": "stream",
     "text": [
      "Method:\t average\n",
      "m_544.fasta.motif.h2_1.h2_2.h2_5.cm\n",
      "m_278.fasta.motif.h2_1.h2_3.cm\n",
      "m_288.fasta.motif.h2_1.h2_5.h2_4.cm\n",
      "m_290.fasta.motif.h2_3.h2_4.cm\n",
      "m_516.fasta.motif.h1_4.cm\n",
      "m_511.fasta.motif.h1_2.h1_5.cm\n"
     ]
    },
    {
     "data": {
      "image/png": "[encoded data removed]",
      "text/plain": [
       "<Figure size 432x288 with 2 Axes>"
      ]
     },
     "metadata": {},
     "output_type": "display_data"
    },
    {
     "name": "stdout",
     "output_type": "stream",
     "text": [
      "Method:\t complete\n",
      "m_544.fasta.motif.h2_1.h2_2.h2_5.cm\n",
      "m_278.fasta.motif.h2_1.h2_3.cm\n",
      "m_288.fasta.motif.h2_1.h2_5.h2_4.cm\n",
      "m_290.fasta.motif.h2_3.h2_4.cm\n",
      "m_516.fasta.motif.h1_4.cm\n",
      "m_511.fasta.motif.h1_2.h1_5.cm\n"
     ]
    },
    {
     "data": {
      "image/png": "[encoded data removed]",
      "text/plain": [
       "<Figure size 432x288 with 2 Axes>"
      ]
     },
     "metadata": {},
     "output_type": "display_data"
    }
   ],
   "source": [
    "N = len(symMats[3])\n",
    "methods = [\"ward\",\"single\",\"average\",\"complete\"]\n",
    "for method in methods:\n",
    "    print(\"Method:\\t\",method)\n",
    "    \n",
    "    ordered_dist_mat, res_order, res_linkage = compute_serial_matrix(symMats[3]+symMats[3].T,method)\n",
    "    for i in range(len(res_order)):\n",
    "        print(col[res_order[i]])\n",
    "    \n",
    "    plt.pcolormesh(ordered_dist_mat)\n",
    "    plt.xlim([0,N])\n",
    "    plt.ylim([0,N])\n",
    "    plt.colorbar()\n",
    "    fig.tight_layout()\n",
    "    plt.show()"
   ]
  },
  {
   "cell_type": "code",
   "execution_count": 8,
   "metadata": {
    "scrolled": false
   },
   "outputs": [],
   "source": [
    "for i in range(len(graphs)):\n",
    "    G=graphs[i]\n",
    "    #nx.write_gexf(G,\"../output/\"+str(algos[i])+\".gexf\")"
   ]
  }
 ],
 "metadata": {
  "kernelspec": {
   "display_name": "Python 3",
   "language": "python",
   "name": "python3"
  },
  "language_info": {
   "codemirror_mode": {
    "name": "ipython",
    "version": 3
   },
   "file_extension": ".py",
   "mimetype": "text/x-python",
   "name": "python",
   "nbconvert_exporter": "python",
   "pygments_lexer": "ipython3",
   "version": "3.6.5"
  }
 },
 "nbformat": 4,
 "nbformat_minor": 2
}

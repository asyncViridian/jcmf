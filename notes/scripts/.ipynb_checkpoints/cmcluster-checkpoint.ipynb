{
 "cells": [
  {
   "cell_type": "code",
   "execution_count": 1,
   "metadata": {},
   "outputs": [],
   "source": [
    "import numpy as np\n",
    "import matplotlib.pyplot as plt\n",
    "from mpl_toolkits import mplot3d\n",
    "\n",
    "from sklearn.cluster import KMeans"
   ]
  },
  {
   "cell_type": "code",
   "execution_count": 2,
   "metadata": {},
   "outputs": [],
   "source": [
    "def peel_first_col(fname, fcol, delimiter=None):\n",
    "    with open(fname, 'r') as fin:\n",
    "        for line in fin:\n",
    "            try:\n",
    "                fcol.append(line.split(delimiter, 1)[0])\n",
    "                yield line.split(delimiter, 1)[1]\n",
    "            except IndexError:\n",
    "                continue"
   ]
  },
  {
   "cell_type": "code",
   "execution_count": 3,
   "metadata": {},
   "outputs": [
    {
     "name": "stdout",
     "output_type": "stream",
     "text": [
      "PoAV\n",
      "[[  0.     123.0758  13.3431 144.9391]\n",
      " [  0.       0.     121.8927 164.1554]\n",
      " [  0.       0.       0.     150.2047]\n",
      " [  0.       0.       0.       0.    ]]\n",
      "['m_1540.fasta.motif.h1_2.h1_4.h1_3_chr5.sto.cm', 'm_1930.fasta.motif.h2_1.h2_2.h1_3_chr5.sto.cm', 'm_1539.fasta.motif.h2_2.h2_3_chr5.sto.cm', 'm_1579.fasta.motif.h2_1.h2_3_chr5.sto.cm']\n",
      "\n",
      "Po2P\n",
      "[[  0.         205.805068    16.47372123 216.60273606]\n",
      " [  0.           0.         196.71233521 242.58620081]\n",
      " [  0.           0.           0.         243.72022356]\n",
      " [  0.           0.           0.           0.        ]]\n",
      "['m_1540.fasta.motif.h1_2.h1_4.h1_3_chr5.sto.cm', 'm_1930.fasta.motif.h2_1.h2_2.h1_3_chr5.sto.cm', 'm_1539.fasta.motif.h2_2.h2_3_chr5.sto.cm', 'm_1579.fasta.motif.h2_1.h2_3_chr5.sto.cm']\n",
      "\n",
      "PoPN\n",
      "[[  0.         148.38628872   7.69584654 178.00629893]\n",
      " [  0.           0.         128.79541264 214.5471225 ]\n",
      " [  0.           0.           0.         163.48387572]\n",
      " [  0.           0.           0.           0.        ]]\n",
      "['m_1540.fasta.motif.h1_2.h1_4.h1_3_chr5.sto.cm', 'm_1930.fasta.motif.h2_1.h2_2.h1_3_chr5.sto.cm', 'm_1539.fasta.motif.h2_2.h2_3_chr5.sto.cm', 'm_1579.fasta.motif.h2_1.h2_3_chr5.sto.cm']\n",
      "\n",
      "PQAV\n",
      "[[ 0.       5.1585   9.14535 36.6039 ]\n",
      " [ 0.       0.       5.2271  44.72475]\n",
      " [ 0.       0.       0.      35.99765]\n",
      " [ 0.       0.       0.       0.     ]]\n",
      "['m_1540.fasta.motif.h1_2.h1_4.h1_3_chr5.sto.cm', 'm_1930.fasta.motif.h2_1.h2_2.h1_3_chr5.sto.cm', 'm_1539.fasta.motif.h2_2.h2_3_chr5.sto.cm', 'm_1579.fasta.motif.h2_1.h2_3_chr5.sto.cm']\n",
      "\n",
      "PQ2P\n",
      "[[  0.         214.75421424  11.43985261 235.73503717]\n",
      " [  0.           0.         199.47128541 240.19287759]\n",
      " [  0.           0.           0.         243.04210409]\n",
      " [  0.           0.           0.           0.        ]]\n",
      "['m_1540.fasta.motif.h1_2.h1_4.h1_3_chr5.sto.cm', 'm_1930.fasta.motif.h2_1.h2_2.h1_3_chr5.sto.cm', 'm_1539.fasta.motif.h2_2.h2_3_chr5.sto.cm', 'm_1579.fasta.motif.h2_1.h2_3_chr5.sto.cm']\n",
      "\n",
      "PQPN\n",
      "[[  0.          97.59216859   5.64728718 137.80425105]\n",
      " [  0.           0.         125.53509056 216.45829041]\n",
      " [  0.           0.           0.         187.80897001]\n",
      " [  0.           0.           0.           0.        ]]\n",
      "['m_1540.fasta.motif.h1_2.h1_4.h1_3_chr5.sto.cm', 'm_1930.fasta.motif.h2_1.h2_2.h1_3_chr5.sto.cm', 'm_1539.fasta.motif.h2_2.h2_3_chr5.sto.cm', 'm_1579.fasta.motif.h2_1.h2_3_chr5.sto.cm']\n",
      "\n",
      "[array([[  0.    , 123.0758,  13.3431, 144.9391],\n",
      "       [  0.    ,   0.    , 121.8927, 164.1554],\n",
      "       [  0.    ,   0.    ,   0.    , 150.2047],\n",
      "       [  0.    ,   0.    ,   0.    ,   0.    ]]), array([[  0.        , 205.805068  ,  16.47372123, 216.60273606],\n",
      "       [  0.        ,   0.        , 196.71233521, 242.58620081],\n",
      "       [  0.        ,   0.        ,   0.        , 243.72022356],\n",
      "       [  0.        ,   0.        ,   0.        ,   0.        ]]), array([[  0.        , 148.38628872,   7.69584654, 178.00629893],\n",
      "       [  0.        ,   0.        , 128.79541264, 214.5471225 ],\n",
      "       [  0.        ,   0.        ,   0.        , 163.48387572],\n",
      "       [  0.        ,   0.        ,   0.        ,   0.        ]]), array([[ 0.     ,  5.1585 ,  9.14535, 36.6039 ],\n",
      "       [ 0.     ,  0.     ,  5.2271 , 44.72475],\n",
      "       [ 0.     ,  0.     ,  0.     , 35.99765],\n",
      "       [ 0.     ,  0.     ,  0.     ,  0.     ]]), array([[  0.        , 214.75421424,  11.43985261, 235.73503717],\n",
      "       [  0.        ,   0.        , 199.47128541, 240.19287759],\n",
      "       [  0.        ,   0.        ,   0.        , 243.04210409],\n",
      "       [  0.        ,   0.        ,   0.        ,   0.        ]]), array([[  0.        ,  97.59216859,   5.64728718, 137.80425105],\n",
      "       [  0.        ,   0.        , 125.53509056, 216.45829041],\n",
      "       [  0.        ,   0.        ,   0.        , 187.80897001],\n",
      "       [  0.        ,   0.        ,   0.        ,   0.        ]])]\n"
     ]
    }
   ],
   "source": [
    "symMats = []\n",
    "col=[]\n",
    "for f in [\"PoAV\",\"Po2P\",\"PoPN\",\"PQAV\",\"PQ2P\",\"PQPN\"]:\n",
    "    col = []\n",
    "    klDiv = np.loadtxt(peel_first_col(\"../../output/\"+f+\"_5.matrix\", col), skiprows=1)\n",
    "    col.pop(0)\n",
    "    klDiv = np.absolute(klDiv)\n",
    "    symKlDiv = np.triu(klDiv)+np.tril(klDiv).T\n",
    "    print(f)\n",
    "    print(symKlDiv)\n",
    "    print(col)\n",
    "    print()\n",
    "    symMats = symMats + [symKlDiv]\n",
    "    col = col\n",
    "print(symMats)"
   ]
  },
  {
   "cell_type": "code",
   "execution_count": 4,
   "metadata": {},
   "outputs": [
    {
     "name": "stdout",
     "output_type": "stream",
     "text": [
      "[[  0.     123.0758  13.3431 144.9391]\n",
      " [  0.       0.     121.8927 164.1554]\n",
      " [  0.       0.       0.     150.2047]\n",
      " [  0.       0.       0.       0.    ]]\n",
      "[2 0 0 1]\n"
     ]
    }
   ],
   "source": [
    "from sklearn.cluster import AgglomerativeClustering\n",
    "clustering = AgglomerativeClustering(n_clusters=3).fit(symMats[0])\n",
    "print(symMats[0])\n",
    "print(clustering.labels_)"
   ]
  },
  {
   "cell_type": "code",
   "execution_count": 14,
   "metadata": {
    "scrolled": false
   },
   "outputs": [
    {
     "name": "stdout",
     "output_type": "stream",
     "text": [
      "[(0, {'label': 'm_1540.fasta.motif.h1_2.h1_4.h1_3_chr5.sto.cm'}), (1, {}), (2, {}), (3, {})]\n",
      "[(0, {'label': 'm_1540.fasta.motif.h1_2.h1_4.h1_3_chr5.sto.cm'}), (1, {'label': 'm_1930.fasta.motif.h2_1.h2_2.h1_3_chr5.sto.cm'}), (2, {}), (3, {})]\n",
      "[(0, {'label': 'm_1540.fasta.motif.h1_2.h1_4.h1_3_chr5.sto.cm'}), (1, {'label': 'm_1930.fasta.motif.h2_1.h2_2.h1_3_chr5.sto.cm'}), (2, {'label': 'm_1539.fasta.motif.h2_2.h2_3_chr5.sto.cm'}), (3, {})]\n",
      "[(0, {'label': 'm_1540.fasta.motif.h1_2.h1_4.h1_3_chr5.sto.cm'}), (1, {'label': 'm_1930.fasta.motif.h2_1.h2_2.h1_3_chr5.sto.cm'}), (2, {'label': 'm_1539.fasta.motif.h2_2.h2_3_chr5.sto.cm'}), (3, {'label': 'm_1579.fasta.motif.h2_1.h2_3_chr5.sto.cm'})]\n"
     ]
    },
    {
     "data": {
      "image/png": "[encoded data removed]",
      "text/plain": [
       "<Figure size 432x288 with 1 Axes>"
      ]
     },
     "metadata": {},
     "output_type": "display_data"
    }
   ],
   "source": [
    "import networkx as nx\n",
    "import string\n",
    "\n",
    "G = nx.from_numpy_matrix(symMats[0])\n",
    "for i in range(len(col)):\n",
    "    G.node[i]['label'] = col[i]\n",
    "\n",
    "nx.write_gexf(G,\"../../output/graph.gexf\")\n",
    "\n",
    "nx.draw(G,edge_color = [ i[2]['weight'] for i in G.edges(data=True) ], edge_cmap=plt.cm.winter )"
   ]
  },
  {
   "cell_type": "code",
   "execution_count": null,
   "metadata": {},
   "outputs": [],
   "source": []
  },
  {
   "cell_type": "code",
   "execution_count": null,
   "metadata": {},
   "outputs": [],
   "source": []
  }
 ],
 "metadata": {
  "kernelspec": {
   "display_name": "Python 3",
   "language": "python",
   "name": "python3"
  },
  "language_info": {
   "codemirror_mode": {
    "name": "ipython",
    "version": 3
   },
   "file_extension": ".py",
   "mimetype": "text/x-python",
   "name": "python",
   "nbconvert_exporter": "python",
   "pygments_lexer": "ipython3",
   "version": "3.6.5"
  }
 },
 "nbformat": 4,
 "nbformat_minor": 2
}

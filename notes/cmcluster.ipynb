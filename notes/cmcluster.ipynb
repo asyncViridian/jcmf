{
 "cells": [
  {
   "cell_type": "code",
   "execution_count": 1,
   "metadata": {},
   "outputs": [],
   "source": [
    "def peel_first_col(fname, fcol, delimiter=None):\n",
    "    with open(fname, 'r') as fin:\n",
    "        for line in fin:\n",
    "            try:\n",
    "                fcol.append(line.split(delimiter, 1)[0])\n",
    "                yield line.split(delimiter, 1)[1]\n",
    "            except IndexError:\n",
    "                continue"
   ]
  },
  {
   "cell_type": "code",
   "execution_count": 2,
   "metadata": {
    "scrolled": false
   },
   "outputs": [
    {
     "name": "stdout",
     "output_type": "stream",
     "text": [
      "['m_753.fasta.motif.h1_3.h2_3.h1_1.h1_4.h1_2_chr5.sto.cm'\n",
      " 'm_9.fasta.motif.h1_4.h2_1.h1_3_chr5.sto.cm'\n",
      " 'm_1540.fasta.motif.h1_2.h1_4.h1_3_chr5.sto.cm'\n",
      " 'm_1539.fasta.motif.h2_2.h2_3_chr5.sto.cm'\n",
      " 'm_1720.fasta.motif.h2_2.h2_5_chr5.sto.cm'\n",
      " 'm_391.fasta.motif.h2_3.h2_4_chr5.sto.cm'\n",
      " 'm_417.fasta.motif.h1_5_chr5.sto.cm']\n"
     ]
    }
   ],
   "source": [
    "import numpy as np\n",
    "import matplotlib.pyplot as plt\n",
    "from mpl_toolkits import mplot3d\n",
    "import networkx as nx\n",
    "import string\n",
    "\n",
    "symMats = []\n",
    "graphs = []\n",
    "algos = []\n",
    "col = []\n",
    "algoOrder = [\"PoAV\", \"PQAV\", \"Po2P\", \"PQ2P\", \"PoPN\", \"PQPN\"]\n",
    "ext =       [\"\",     \"_1\",   \"_2\",   \"_3\",   \"_4\",   \"_5\"]\n",
    "for e in range(len(ext)):\n",
    "    for f in range(5):\n",
    "        col = []\n",
    "        klDiv = np.loadtxt(peel_first_col(\"output/testCMs/r\"+str(f+1)+ext[e]+\".matrix\", col), skiprows=1)\n",
    "        col.pop(0)\n",
    "        #klDiv = np.absolute(klDiv)\n",
    "        symKlDiv = np.triu(klDiv)+np.tril(klDiv).T\n",
    "        symMats = symMats + [symKlDiv]\n",
    "        \n",
    "        G = nx.from_numpy_matrix(symKlDiv)\n",
    "        for i in range(len(col)):\n",
    "            G.node[i]['id'] = col[i]\n",
    "        graphs = graphs + [G]\n",
    "        algos = algos + [algoOrder[e] + str(f)]\n",
    "print(np.array(col).T)"
   ]
  },
  {
   "cell_type": "code",
   "execution_count": 3,
   "metadata": {
    "scrolled": false
   },
   "outputs": [
    {
     "name": "stdout",
     "output_type": "stream",
     "text": [
      "[[  0.     116.451  127.1559 122.7222 135.3996 139.9891 112.9817]\n",
      " [  0.       0.     110.1554 115.6374 130.0208 135.8775  99.9079]\n",
      " [  0.       0.       0.      12.0407 130.8657 138.1505 103.7424]\n",
      " [  0.       0.       0.       0.     129.3254 137.6009 104.5831]\n",
      " [  0.       0.       0.       0.       0.     148.3967 118.2296]\n",
      " [  0.       0.       0.       0.       0.       0.     117.2208]\n",
      " [  0.       0.       0.       0.       0.       0.       0.    ]]\n",
      "[1 1 0 0 0 2 2]\n"
     ]
    }
   ],
   "source": [
    "from sklearn.cluster import AgglomerativeClustering\n",
    "clustering = AgglomerativeClustering(n_clusters=3).fit(symMats[0])\n",
    "print(symMats[0])\n",
    "print(clustering.labels_)"
   ]
  },
  {
   "cell_type": "code",
   "execution_count": 7,
   "metadata": {},
   "outputs": [
    {
     "name": "stdout",
     "output_type": "stream",
     "text": [
      "PoAV0 \t [1 1 2 2 1 0 1]\n",
      "PoAV1 \t [1 1 0 0 2 1 1]\n",
      "PoAV2 \t [0 2 1 1 2 0 2]\n",
      "PoAV3 \t [1 1 0 0 1 2 1]\n",
      "PoAV4 \t [0 0 1 1 0 2 2]\n",
      "\n",
      "PQAV0 \t [0 0 1 0 2 2 1]\n",
      "PQAV1 \t [1 1 1 0 0 2 2]\n",
      "PQAV2 \t [1 2 2 0 0 1 0]\n",
      "PQAV3 \t [0 1 1 2 1 2 0]\n",
      "PQAV4 \t [2 1 1 0 1 0 2]\n",
      "\n",
      "Po2P0 \t [1 1 0 0 1 2 1]\n",
      "Po2P1 \t [2 1 0 0 1 2 1]\n",
      "Po2P2 \t [1 0 2 2 0 1 0]\n",
      "Po2P3 \t [0 0 1 1 0 2 0]\n",
      "Po2P4 \t [2 2 0 0 2 1 2]\n",
      "\n",
      "PQ2P0 \t [1 1 0 0 1 2 1]\n",
      "PQ2P1 \t [2 0 1 1 0 2 0]\n",
      "PQ2P2 \t [2 0 1 1 0 2 0]\n",
      "PQ2P3 \t [0 0 1 1 0 2 0]\n",
      "PQ2P4 \t [2 2 1 1 2 0 2]\n",
      "\n",
      "PoPN0 \t [2 2 1 1 0 0 2]\n",
      "PoPN1 \t [2 1 0 0 2 1 1]\n",
      "PoPN2 \t [0 0 1 1 0 2 0]\n",
      "PoPN3 \t [1 1 0 0 1 2 1]\n",
      "PoPN4 \t [2 2 1 1 0 2 2]\n",
      "\n",
      "PQPN0 \t [2 2 1 1 0 0 1]\n",
      "PQPN1 \t [2 0 1 1 2 0 0]\n",
      "PQPN2 \t [2 0 1 1 0 0 2]\n",
      "PQPN3 \t [1 1 2 0 1 1 0]\n",
      "PQPN4 \t [0 0 1 1 2 0 0]\n",
      "\n"
     ]
    }
   ],
   "source": [
    "import numpy as np\n",
    "from sklearn.cluster import SpectralClustering\n",
    "from sklearn import metrics\n",
    "\n",
    "for i in range(len(symMats)):\n",
    "    adj_mat = symMats[i] + symMats[i].T\n",
    "    aff_mat = np.exp(-1 * adj_mat / adj_mat.std())\n",
    "\n",
    "    sc = SpectralClustering(3, affinity='precomputed', n_init=100)\n",
    "    sc.fit(aff_mat)\n",
    "    for n in range(len(sc.labels_)):\n",
    "        graphs[i].node[n]['group'] = str(sc.labels_[n])\n",
    "    \n",
    "    print(str(algos[i]), \"\\t\", sc.labels_)\n",
    "    if (i % 5 == 4):\n",
    "        print()"
   ]
  },
  {
   "cell_type": "code",
   "execution_count": 5,
   "metadata": {
    "scrolled": false
   },
   "outputs": [],
   "source": [
    "for i in range(len(graphs)):\n",
    "    G=graphs[i]\n",
    "    nx.write_gexf(G,\"output/\"+str(algos[i])+\".gexf\")"
   ]
  },
  {
   "cell_type": "code",
   "execution_count": null,
   "metadata": {},
   "outputs": [],
   "source": []
  }
 ],
 "metadata": {
  "kernelspec": {
   "display_name": "Python 3",
   "language": "python",
   "name": "python3"
  },
  "language_info": {
   "codemirror_mode": {
    "name": "ipython",
    "version": 3
   },
   "file_extension": ".py",
   "mimetype": "text/x-python",
   "name": "python",
   "nbconvert_exporter": "python",
   "pygments_lexer": "ipython3",
   "version": "3.6.5"
  }
 },
 "nbformat": 4,
 "nbformat_minor": 2
}
